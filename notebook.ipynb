{
 "cells": [
  {
   "cell_type": "code",
   "execution_count": null,
   "metadata": {
    "scrolled": true
   },
   "outputs": [],
   "source": [
    "%load_ext autoreload\n",
    "%autoreload 2"
   ]
  },
  {
   "cell_type": "code",
   "execution_count": null,
   "metadata": {},
   "outputs": [],
   "source": [
    "import rdkit\n",
    "from rdkit import Chem\n",
    "from rdkit.Chem.Draw import rdMolDraw2D\n",
    "from rdkit.Chem.Draw import IPythonConsole\n",
    "from rdkit.Chem import Draw\n",
    "\n",
    "IPythonConsole.ipython_useSVG=True\n",
    "from IPython.display import Image\n",
    "\n",
    "import dgl, networkx as nx\n",
    "import torch\n",
    "import matplotlib.pyplot as plt\n",
    "\n",
    "import torch.autograd.profiler as profiler\n",
    "\n",
    "import core.preprocess as p\n",
    "from core.models.autoencoder import Autoencoder\n",
    "import core.train as train\n",
    "from core.postprocess import hier_graph_to_mol\n",
    "\n",
    "def label_idx(mol):\n",
    "    for atom in mol.GetAtoms():\n",
    "        atom.SetAtomMapNum(atom.GetIdx())\n",
    "    return mol\n",
    "\n",
    "def clear_labels(mol):\n",
    "    for atom in mol.GetAtoms():\n",
    "        atom.SetAtomMapNum(0)\n",
    "    return mol\n",
    "\n",
    "def show_graph(graph, method):\n",
    "    nxg = dgl.to_homogeneous(graph).to_networkx()\n",
    "    \n",
    "    if method == \"gv\":\n",
    "        ngd = nx.drawing.nx_agraph.to_agraph(nxg)\n",
    "        ngd.layout('dot')\n",
    "        nx.drawing.nx_agraph.write_dot(nxg, \"test.dot\")\n",
    "        !neato -T png test.dot > test.png\n",
    "        return Image(\"test.png\")\n",
    "    elif method == \"nx\":\n",
    "        return nx.draw(nxg, with_labels = True)\n",
    "    else:\n",
    "        return \"Unknown method\""
   ]
  },
  {
   "cell_type": "markdown",
   "metadata": {},
   "source": [
    "## Setup dataset, train, and test"
   ]
  },
  {
   "cell_type": "markdown",
   "metadata": {},
   "source": [
    "##### Dataset\n",
    "Make sure there's a path ../data/debugset/raw/mols_few.txt, where mols_few.txt has a SMILES string on every line, and ../data/debugset/processed/. "
   ]
  },
  {
   "cell_type": "code",
   "execution_count": null,
   "metadata": {
    "scrolled": true
   },
   "outputs": [],
   "source": [
    "import core.dataset as dataset\n",
    "\n",
    "#ds = dataset.MolDataset(\"zinc\", \"../data\", \"raw\", \"processed\", \"train.txt\", 50)\n",
    "ds = dataset.MolDataset(\"debugset\", \"data\", \"raw\", \"processed\", \"mols_smol.txt\", 0)\n",
    "ds.process()\n",
    "\n",
    "val_size = (len(ds) // 10) + 1\n",
    "train_size = len(ds) - val_size\n",
    "assert train_size + val_size == len(ds)\n",
    "train_data, val_data = torch.utils.data.random_split(\n",
    "    ds, [train_size, val_size]\n",
    ")"
   ]
  },
  {
   "cell_type": "code",
   "execution_count": null,
   "metadata": {},
   "outputs": [],
   "source": [
    "len(ds)"
   ]
  },
  {
   "cell_type": "markdown",
   "metadata": {},
   "source": [
    "##### Display example data"
   ]
  },
  {
   "cell_type": "code",
   "execution_count": null,
   "metadata": {},
   "outputs": [],
   "source": [
    "idx = 0\n",
    "print(\"Original: \", ds.mol_SMILES[\"orig\"][idx])\n",
    "print(\"Fragmented: \", ds.mol_SMILES[\"frag\"][idx])\n",
    "original = Chem.MolFromSmiles(ds.mol_SMILES[\"orig\"][idx])\n",
    "fragmented = Chem.MolFromSmarts(ds.mol_SMILES[\"frag\"][idx])\n",
    "rdkit.Chem.Draw.MolsToGridImage([original], molsPerRow=1, subImgSize=(640, 480))"
   ]
  },
  {
   "cell_type": "code",
   "execution_count": null,
   "metadata": {},
   "outputs": [],
   "source": [
    "label_idx(fragmented)\n",
    "fragmented\n",
    "#rdkit.Chem.Draw.ShowMol(label_idx(fragmented), (640, 480))"
   ]
  },
  {
   "cell_type": "code",
   "execution_count": null,
   "metadata": {},
   "outputs": [],
   "source": [
    "motif_vocab_idx = 0\n",
    "Chem.MolFromSmiles(ds.vocabs[\"motif\"][\"node\"][motif_vocab_idx])"
   ]
  },
  {
   "cell_type": "code",
   "execution_count": null,
   "metadata": {},
   "outputs": [],
   "source": [
    "atom_graph = ds.mol_hgraphs[0].node_type_subgraph([\"atom\"])\n",
    "atom_edges = atom_graph.edges(etype = (\"atom\", \"bond\", \"atom\"))\n",
    "show_graph(atom_graph, \"gv\")"
   ]
  },
  {
   "cell_type": "code",
   "execution_count": null,
   "metadata": {},
   "outputs": [],
   "source": [
    "idx = idx\n",
    "motif_graph = ds.mol_hgraphs[idx].node_type_subgraph([\"motif\"])\n",
    "motif_attch_graph = ds.mol_hgraphs[idx].edge_type_subgraph([(\"motif\", \"attaches to\", \"motif\")])\n",
    "motif_ancestry_graph = ds.mol_hgraphs[idx].edge_type_subgraph([(\"motif\", \"ancestry\", \"motif\")])\n",
    "motif_edges = motif_graph.edges(etype = (\"motif\", \"attaches to\", \"motif\"))\n",
    "edge_attchs = ds.mol_hgraphs[idx].edges[(\"motif\", \"attaches to\", \"motif\")].data[\"attachment_motif_id_pair\"]\n",
    "motif_ndata = motif_graph.nodes[\"motif\"].data\n",
    "print(\"Edges between motifs and the IDs of the atoms at which they attach:\")\n",
    "print(list(zip(motif_edges[0].tolist(), motif_edges[1].tolist(), edge_attchs.tolist())))\n",
    "print(\"(id, vocab idx, smiles)\")\n",
    "print([(i, idx.item(), ds.vocabs[\"motif\"][\"node\"][idx]) for i, idx in enumerate(motif_ndata[\"vocab_idx\"])])\n",
    "show_graph(motif_attch_graph, \"nx\")"
   ]
  },
  {
   "cell_type": "code",
   "execution_count": null,
   "metadata": {},
   "outputs": [],
   "source": [
    "hier_graph_to_mol(ds.mol_hgraphs[idx], ds.vocabs)"
   ]
  },
  {
   "cell_type": "code",
   "execution_count": null,
   "metadata": {},
   "outputs": [],
   "source": [
    "show_graph(ds.motif_graphs[0], \"nx\")"
   ]
  },
  {
   "cell_type": "markdown",
   "metadata": {},
   "source": [
    "##### Initialize model, train it, and test it."
   ]
  },
  {
   "cell_type": "code",
   "execution_count": null,
   "metadata": {},
   "outputs": [],
   "source": [
    "from core.models.message_passing import GCN, RNN_MPN\n",
    "device = torch.device(\"cuda\" if torch.cuda.is_available() else \"cpu\")\n",
    "model = Autoencoder(ds.vocabs, ds.motif_graphs, node_rep_size = 200, latent_size = 200,\n",
    "                    rep_activation = torch.nn.ReLU, attach_prediction_method = \"dot\", neighbor_hops = 2,\n",
    "                    variational = True, device = device, mpn_model = GCN)"
   ]
  },
  {
   "cell_type": "code",
   "execution_count": null,
   "metadata": {
    "scrolled": false
   },
   "outputs": [],
   "source": [
    "collate = lambda batch: dataset.collate_(batch, device)\n",
    "train_dataloader = torch.utils.data.DataLoader(train_data, batch_size = 4, shuffle = False, collate_fn = collate)\n",
    "val_dataloader = torch.utils.data.DataLoader(val_data, batch_size = 4, shuffle = False, collate_fn = collate)\n",
    "\n",
    "optimizer = torch.optim.Adam(model.parameters(), lr=.001)\n",
    "train.train(model = model, optimizer = optimizer, reconst_weight = 1, KL_weight = .2,\n",
    "            train_data_loader = train_dataloader, val_data_loader = val_dataloader,\n",
    "            val_interval = None, val_log_interval = None, epochs = 500, log_interval = 1)"
   ]
  },
  {
   "cell_type": "markdown",
   "metadata": {},
   "source": [
    "##### Test it"
   ]
  },
  {
   "cell_type": "code",
   "execution_count": null,
   "metadata": {
    "scrolled": true
   },
   "outputs": [],
   "source": [
    "import gc; gc.collect()\n",
    "\n",
    "idxs = range(len(ds.mol_hgraphs))\n",
    "hgraphs_in = [ds.mol_hgraphs[idx] for idx in idxs] #[ds.mol_hgraphs[0]]\n",
    "print(len(ds.mol_hgraphs))\n",
    "model.eval()\n",
    "\n",
    "with profiler.profile(record_shapes=True, with_stack=True) as prof:\n",
    "    with torch.no_grad():\n",
    "        hgraphs_out = model(hgraphs_in, max_motifs = 200)"
   ]
  },
  {
   "cell_type": "code",
   "execution_count": null,
   "metadata": {},
   "outputs": [],
   "source": [
    "out_mols = []\n",
    "for hgraph in hgraphs_out:\n",
    "    #Chem.Kekulize(out_mol)\n",
    "    mol = hier_graph_to_mol(hgraph, ds.vocabs)\n",
    "    mol = Chem.MolFromSmiles(Chem.MolToSmiles(mol))\n",
    "    out_mols.append(mol)\n",
    "    print(mol)\n",
    "#Display all\n",
    "Draw.MolsToGridImage(out_mols, molsPerRow = 3, subImgSize = (350, 350))"
   ]
  },
  {
   "cell_type": "markdown",
   "metadata": {},
   "source": [
    "##### Get target mols"
   ]
  },
  {
   "cell_type": "code",
   "execution_count": null,
   "metadata": {
    "scrolled": false
   },
   "outputs": [],
   "source": [
    "def get_mols(idxs):\n",
    "    return [Chem.MolFromSmiles(ds.mol_SMILES[\"orig\"][i]) for i in idxs]\n",
    "\n",
    "idxs = range(len(ds.mol_SMILES[\"orig\"]))\n",
    "mols = get_mols(idxs)\n",
    "\n",
    "Draw.MolsToGridImage(mols, molsPerRow = 3, subImgSize = (350, 350))"
   ]
  },
  {
   "cell_type": "markdown",
   "metadata": {},
   "source": [
    "##### Generate teacher-forced out_mols"
   ]
  },
  {
   "cell_type": "code",
   "execution_count": null,
   "metadata": {},
   "outputs": [],
   "source": [
    "import gc; gc.collect()\n",
    "input_graphs = [ds.mol_hgraphs[idx] for idx in idxs]\n",
    "target_graphs = [ds.mol_hgraphs[idx] for idx in idxs]\n",
    "\n",
    "model.eval()\n",
    "with torch.no_grad():\n",
    "    output_graphs, reconst_loss, kl_loss = model(input_graphs, target_graphs, max_motifs = 100)\n",
    "\n",
    "out_mols = []\n",
    "for output_graph in output_graphs:\n",
    "    out_mols.append(hier_graph_to_mol(output_graph, ds.vocabs))"
   ]
  },
  {
   "cell_type": "markdown",
   "metadata": {},
   "source": [
    "##### Compare out_mols to target mols"
   ]
  },
  {
   "cell_type": "code",
   "execution_count": null,
   "metadata": {},
   "outputs": [],
   "source": [
    "from core.postprocess import get_similarity\n",
    "#print(out_mols)\n",
    "for i, (mol, out_mol) in enumerate(zip(mols, out_mols)):\n",
    "    if out_mol is not None:\n",
    "        sim = get_similarity(mol, out_mol)\n",
    "    else:\n",
    "        sim = \"None\"\n",
    "        \n",
    "    print(i, sim)"
   ]
  },
  {
   "cell_type": "code",
   "execution_count": null,
   "metadata": {},
   "outputs": [],
   "source": [
    "idx=6\n",
    "Draw.MolsToGridImage([mols[idx], out_mols[idx]], molsPerRow = 3, subImgSize = (350, 350))"
   ]
  }
 ],
 "metadata": {
  "kernelspec": {
   "display_name": "Python [conda env:chem]",
   "language": "python",
   "name": "conda-env-chem-py"
  },
  "language_info": {
   "codemirror_mode": {
    "name": "ipython",
    "version": 3
   },
   "file_extension": ".py",
   "mimetype": "text/x-python",
   "name": "python",
   "nbconvert_exporter": "python",
   "pygments_lexer": "ipython3",
   "version": "3.9.7"
  }
 },
 "nbformat": 4,
 "nbformat_minor": 2
}
